{
  "nbformat": 4,
  "nbformat_minor": 0,
  "metadata": {
    "colab": {
      "provenance": []
    },
    "kernelspec": {
      "name": "python3",
      "display_name": "Python 3"
    },
    "language_info": {
      "name": "python"
    }
  },
  "cells": [
    {
      "cell_type": "markdown",
      "source": [
        "# 📁 Section 1: Project Setup and Imports"
      ],
      "metadata": {
        "id": "fgzjW7KeGMkM"
      }
    },
    {
      "cell_type": "code",
      "execution_count": 13,
      "metadata": {
        "colab": {
          "base_uri": "https://localhost:8080/"
        },
        "id": "iMhjRwMj2scv",
        "outputId": "6df5ac0a-95a6-4e71-bfa2-77cb5922029b"
      },
      "outputs": [
        {
          "output_type": "stream",
          "name": "stdout",
          "text": [
            "Requirement already satisfied: transformers in /usr/local/lib/python3.11/dist-packages (4.53.2)\n",
            "Requirement already satisfied: filelock in /usr/local/lib/python3.11/dist-packages (from transformers) (3.18.0)\n",
            "Requirement already satisfied: huggingface-hub<1.0,>=0.30.0 in /usr/local/lib/python3.11/dist-packages (from transformers) (0.33.4)\n",
            "Requirement already satisfied: numpy>=1.17 in /usr/local/lib/python3.11/dist-packages (from transformers) (2.0.2)\n",
            "Requirement already satisfied: packaging>=20.0 in /usr/local/lib/python3.11/dist-packages (from transformers) (25.0)\n",
            "Requirement already satisfied: pyyaml>=5.1 in /usr/local/lib/python3.11/dist-packages (from transformers) (6.0.2)\n",
            "Requirement already satisfied: regex!=2019.12.17 in /usr/local/lib/python3.11/dist-packages (from transformers) (2024.11.6)\n",
            "Requirement already satisfied: requests in /usr/local/lib/python3.11/dist-packages (from transformers) (2.32.3)\n",
            "Requirement already satisfied: tokenizers<0.22,>=0.21 in /usr/local/lib/python3.11/dist-packages (from transformers) (0.21.2)\n",
            "Requirement already satisfied: safetensors>=0.4.3 in /usr/local/lib/python3.11/dist-packages (from transformers) (0.5.3)\n",
            "Requirement already satisfied: tqdm>=4.27 in /usr/local/lib/python3.11/dist-packages (from transformers) (4.67.1)\n",
            "Requirement already satisfied: fsspec>=2023.5.0 in /usr/local/lib/python3.11/dist-packages (from huggingface-hub<1.0,>=0.30.0->transformers) (2025.3.2)\n",
            "Requirement already satisfied: typing-extensions>=3.7.4.3 in /usr/local/lib/python3.11/dist-packages (from huggingface-hub<1.0,>=0.30.0->transformers) (4.14.1)\n",
            "Requirement already satisfied: hf-xet<2.0.0,>=1.1.2 in /usr/local/lib/python3.11/dist-packages (from huggingface-hub<1.0,>=0.30.0->transformers) (1.1.5)\n",
            "Requirement already satisfied: charset-normalizer<4,>=2 in /usr/local/lib/python3.11/dist-packages (from requests->transformers) (3.4.2)\n",
            "Requirement already satisfied: idna<4,>=2.5 in /usr/local/lib/python3.11/dist-packages (from requests->transformers) (3.10)\n",
            "Requirement already satisfied: urllib3<3,>=1.21.1 in /usr/local/lib/python3.11/dist-packages (from requests->transformers) (2.4.0)\n",
            "Requirement already satisfied: certifi>=2017.4.17 in /usr/local/lib/python3.11/dist-packages (from requests->transformers) (2025.7.14)\n",
            "Requirement already satisfied: sentence-transformers in /usr/local/lib/python3.11/dist-packages (4.1.0)\n",
            "Requirement already satisfied: transformers<5.0.0,>=4.41.0 in /usr/local/lib/python3.11/dist-packages (from sentence-transformers) (4.53.2)\n",
            "Requirement already satisfied: tqdm in /usr/local/lib/python3.11/dist-packages (from sentence-transformers) (4.67.1)\n",
            "Requirement already satisfied: torch>=1.11.0 in /usr/local/lib/python3.11/dist-packages (from sentence-transformers) (2.6.0+cu124)\n",
            "Requirement already satisfied: scikit-learn in /usr/local/lib/python3.11/dist-packages (from sentence-transformers) (1.6.1)\n",
            "Requirement already satisfied: scipy in /usr/local/lib/python3.11/dist-packages (from sentence-transformers) (1.15.3)\n",
            "Requirement already satisfied: huggingface-hub>=0.20.0 in /usr/local/lib/python3.11/dist-packages (from sentence-transformers) (0.33.4)\n",
            "Requirement already satisfied: Pillow in /usr/local/lib/python3.11/dist-packages (from sentence-transformers) (11.2.1)\n",
            "Requirement already satisfied: typing_extensions>=4.5.0 in /usr/local/lib/python3.11/dist-packages (from sentence-transformers) (4.14.1)\n",
            "Requirement already satisfied: filelock in /usr/local/lib/python3.11/dist-packages (from huggingface-hub>=0.20.0->sentence-transformers) (3.18.0)\n",
            "Requirement already satisfied: fsspec>=2023.5.0 in /usr/local/lib/python3.11/dist-packages (from huggingface-hub>=0.20.0->sentence-transformers) (2025.3.2)\n",
            "Requirement already satisfied: packaging>=20.9 in /usr/local/lib/python3.11/dist-packages (from huggingface-hub>=0.20.0->sentence-transformers) (25.0)\n",
            "Requirement already satisfied: pyyaml>=5.1 in /usr/local/lib/python3.11/dist-packages (from huggingface-hub>=0.20.0->sentence-transformers) (6.0.2)\n",
            "Requirement already satisfied: requests in /usr/local/lib/python3.11/dist-packages (from huggingface-hub>=0.20.0->sentence-transformers) (2.32.3)\n",
            "Requirement already satisfied: hf-xet<2.0.0,>=1.1.2 in /usr/local/lib/python3.11/dist-packages (from huggingface-hub>=0.20.0->sentence-transformers) (1.1.5)\n",
            "Requirement already satisfied: networkx in /usr/local/lib/python3.11/dist-packages (from torch>=1.11.0->sentence-transformers) (3.5)\n",
            "Requirement already satisfied: jinja2 in /usr/local/lib/python3.11/dist-packages (from torch>=1.11.0->sentence-transformers) (3.1.6)\n",
            "Requirement already satisfied: nvidia-cuda-nvrtc-cu12==12.4.127 in /usr/local/lib/python3.11/dist-packages (from torch>=1.11.0->sentence-transformers) (12.4.127)\n",
            "Requirement already satisfied: nvidia-cuda-runtime-cu12==12.4.127 in /usr/local/lib/python3.11/dist-packages (from torch>=1.11.0->sentence-transformers) (12.4.127)\n",
            "Requirement already satisfied: nvidia-cuda-cupti-cu12==12.4.127 in /usr/local/lib/python3.11/dist-packages (from torch>=1.11.0->sentence-transformers) (12.4.127)\n",
            "Requirement already satisfied: nvidia-cudnn-cu12==9.1.0.70 in /usr/local/lib/python3.11/dist-packages (from torch>=1.11.0->sentence-transformers) (9.1.0.70)\n",
            "Requirement already satisfied: nvidia-cublas-cu12==12.4.5.8 in /usr/local/lib/python3.11/dist-packages (from torch>=1.11.0->sentence-transformers) (12.4.5.8)\n",
            "Requirement already satisfied: nvidia-cufft-cu12==11.2.1.3 in /usr/local/lib/python3.11/dist-packages (from torch>=1.11.0->sentence-transformers) (11.2.1.3)\n",
            "Requirement already satisfied: nvidia-curand-cu12==10.3.5.147 in /usr/local/lib/python3.11/dist-packages (from torch>=1.11.0->sentence-transformers) (10.3.5.147)\n",
            "Requirement already satisfied: nvidia-cusolver-cu12==11.6.1.9 in /usr/local/lib/python3.11/dist-packages (from torch>=1.11.0->sentence-transformers) (11.6.1.9)\n",
            "Requirement already satisfied: nvidia-cusparse-cu12==12.3.1.170 in /usr/local/lib/python3.11/dist-packages (from torch>=1.11.0->sentence-transformers) (12.3.1.170)\n",
            "Requirement already satisfied: nvidia-cusparselt-cu12==0.6.2 in /usr/local/lib/python3.11/dist-packages (from torch>=1.11.0->sentence-transformers) (0.6.2)\n",
            "Requirement already satisfied: nvidia-nccl-cu12==2.21.5 in /usr/local/lib/python3.11/dist-packages (from torch>=1.11.0->sentence-transformers) (2.21.5)\n",
            "Requirement already satisfied: nvidia-nvtx-cu12==12.4.127 in /usr/local/lib/python3.11/dist-packages (from torch>=1.11.0->sentence-transformers) (12.4.127)\n",
            "Requirement already satisfied: nvidia-nvjitlink-cu12==12.4.127 in /usr/local/lib/python3.11/dist-packages (from torch>=1.11.0->sentence-transformers) (12.4.127)\n",
            "Requirement already satisfied: triton==3.2.0 in /usr/local/lib/python3.11/dist-packages (from torch>=1.11.0->sentence-transformers) (3.2.0)\n",
            "Requirement already satisfied: sympy==1.13.1 in /usr/local/lib/python3.11/dist-packages (from torch>=1.11.0->sentence-transformers) (1.13.1)\n",
            "Requirement already satisfied: mpmath<1.4,>=1.1.0 in /usr/local/lib/python3.11/dist-packages (from sympy==1.13.1->torch>=1.11.0->sentence-transformers) (1.3.0)\n",
            "Requirement already satisfied: numpy>=1.17 in /usr/local/lib/python3.11/dist-packages (from transformers<5.0.0,>=4.41.0->sentence-transformers) (2.0.2)\n",
            "Requirement already satisfied: regex!=2019.12.17 in /usr/local/lib/python3.11/dist-packages (from transformers<5.0.0,>=4.41.0->sentence-transformers) (2024.11.6)\n",
            "Requirement already satisfied: tokenizers<0.22,>=0.21 in /usr/local/lib/python3.11/dist-packages (from transformers<5.0.0,>=4.41.0->sentence-transformers) (0.21.2)\n",
            "Requirement already satisfied: safetensors>=0.4.3 in /usr/local/lib/python3.11/dist-packages (from transformers<5.0.0,>=4.41.0->sentence-transformers) (0.5.3)\n",
            "Requirement already satisfied: joblib>=1.2.0 in /usr/local/lib/python3.11/dist-packages (from scikit-learn->sentence-transformers) (1.5.1)\n",
            "Requirement already satisfied: threadpoolctl>=3.1.0 in /usr/local/lib/python3.11/dist-packages (from scikit-learn->sentence-transformers) (3.6.0)\n",
            "Requirement already satisfied: MarkupSafe>=2.0 in /usr/local/lib/python3.11/dist-packages (from jinja2->torch>=1.11.0->sentence-transformers) (3.0.2)\n",
            "Requirement already satisfied: charset-normalizer<4,>=2 in /usr/local/lib/python3.11/dist-packages (from requests->huggingface-hub>=0.20.0->sentence-transformers) (3.4.2)\n",
            "Requirement already satisfied: idna<4,>=2.5 in /usr/local/lib/python3.11/dist-packages (from requests->huggingface-hub>=0.20.0->sentence-transformers) (3.10)\n",
            "Requirement already satisfied: urllib3<3,>=1.21.1 in /usr/local/lib/python3.11/dist-packages (from requests->huggingface-hub>=0.20.0->sentence-transformers) (2.4.0)\n",
            "Requirement already satisfied: certifi>=2017.4.17 in /usr/local/lib/python3.11/dist-packages (from requests->huggingface-hub>=0.20.0->sentence-transformers) (2025.7.14)\n",
            "Requirement already satisfied: streamlit in /usr/local/lib/python3.11/dist-packages (1.47.0)\n",
            "Requirement already satisfied: altair<6,>=4.0 in /usr/local/lib/python3.11/dist-packages (from streamlit) (5.5.0)\n",
            "Requirement already satisfied: blinker<2,>=1.5.0 in /usr/local/lib/python3.11/dist-packages (from streamlit) (1.9.0)\n",
            "Requirement already satisfied: cachetools<7,>=4.0 in /usr/local/lib/python3.11/dist-packages (from streamlit) (5.5.2)\n",
            "Requirement already satisfied: click<9,>=7.0 in /usr/local/lib/python3.11/dist-packages (from streamlit) (8.2.1)\n",
            "Requirement already satisfied: numpy<3,>=1.23 in /usr/local/lib/python3.11/dist-packages (from streamlit) (2.0.2)\n",
            "Requirement already satisfied: packaging<26,>=20 in /usr/local/lib/python3.11/dist-packages (from streamlit) (25.0)\n",
            "Requirement already satisfied: pandas<3,>=1.4.0 in /usr/local/lib/python3.11/dist-packages (from streamlit) (2.2.2)\n",
            "Requirement already satisfied: pillow<12,>=7.1.0 in /usr/local/lib/python3.11/dist-packages (from streamlit) (11.2.1)\n",
            "Requirement already satisfied: protobuf<7,>=3.20 in /usr/local/lib/python3.11/dist-packages (from streamlit) (5.29.5)\n",
            "Requirement already satisfied: pyarrow>=7.0 in /usr/local/lib/python3.11/dist-packages (from streamlit) (18.1.0)\n",
            "Requirement already satisfied: requests<3,>=2.27 in /usr/local/lib/python3.11/dist-packages (from streamlit) (2.32.3)\n",
            "Requirement already satisfied: tenacity<10,>=8.1.0 in /usr/local/lib/python3.11/dist-packages (from streamlit) (8.5.0)\n",
            "Requirement already satisfied: toml<2,>=0.10.1 in /usr/local/lib/python3.11/dist-packages (from streamlit) (0.10.2)\n",
            "Requirement already satisfied: typing-extensions<5,>=4.4.0 in /usr/local/lib/python3.11/dist-packages (from streamlit) (4.14.1)\n",
            "Requirement already satisfied: watchdog<7,>=2.1.5 in /usr/local/lib/python3.11/dist-packages (from streamlit) (6.0.0)\n",
            "Requirement already satisfied: gitpython!=3.1.19,<4,>=3.0.7 in /usr/local/lib/python3.11/dist-packages (from streamlit) (3.1.44)\n",
            "Requirement already satisfied: pydeck<1,>=0.8.0b4 in /usr/local/lib/python3.11/dist-packages (from streamlit) (0.9.1)\n",
            "Requirement already satisfied: tornado!=6.5.0,<7,>=6.0.3 in /usr/local/lib/python3.11/dist-packages (from streamlit) (6.4.2)\n",
            "Requirement already satisfied: jinja2 in /usr/local/lib/python3.11/dist-packages (from altair<6,>=4.0->streamlit) (3.1.6)\n",
            "Requirement already satisfied: jsonschema>=3.0 in /usr/local/lib/python3.11/dist-packages (from altair<6,>=4.0->streamlit) (4.24.0)\n",
            "Requirement already satisfied: narwhals>=1.14.2 in /usr/local/lib/python3.11/dist-packages (from altair<6,>=4.0->streamlit) (1.47.0)\n",
            "Requirement already satisfied: gitdb<5,>=4.0.1 in /usr/local/lib/python3.11/dist-packages (from gitpython!=3.1.19,<4,>=3.0.7->streamlit) (4.0.12)\n",
            "Requirement already satisfied: python-dateutil>=2.8.2 in /usr/local/lib/python3.11/dist-packages (from pandas<3,>=1.4.0->streamlit) (2.9.0.post0)\n",
            "Requirement already satisfied: pytz>=2020.1 in /usr/local/lib/python3.11/dist-packages (from pandas<3,>=1.4.0->streamlit) (2025.2)\n",
            "Requirement already satisfied: tzdata>=2022.7 in /usr/local/lib/python3.11/dist-packages (from pandas<3,>=1.4.0->streamlit) (2025.2)\n",
            "Requirement already satisfied: charset-normalizer<4,>=2 in /usr/local/lib/python3.11/dist-packages (from requests<3,>=2.27->streamlit) (3.4.2)\n",
            "Requirement already satisfied: idna<4,>=2.5 in /usr/local/lib/python3.11/dist-packages (from requests<3,>=2.27->streamlit) (3.10)\n",
            "Requirement already satisfied: urllib3<3,>=1.21.1 in /usr/local/lib/python3.11/dist-packages (from requests<3,>=2.27->streamlit) (2.4.0)\n",
            "Requirement already satisfied: certifi>=2017.4.17 in /usr/local/lib/python3.11/dist-packages (from requests<3,>=2.27->streamlit) (2025.7.14)\n",
            "Requirement already satisfied: smmap<6,>=3.0.1 in /usr/local/lib/python3.11/dist-packages (from gitdb<5,>=4.0.1->gitpython!=3.1.19,<4,>=3.0.7->streamlit) (5.0.2)\n",
            "Requirement already satisfied: MarkupSafe>=2.0 in /usr/local/lib/python3.11/dist-packages (from jinja2->altair<6,>=4.0->streamlit) (3.0.2)\n",
            "Requirement already satisfied: attrs>=22.2.0 in /usr/local/lib/python3.11/dist-packages (from jsonschema>=3.0->altair<6,>=4.0->streamlit) (25.3.0)\n",
            "Requirement already satisfied: jsonschema-specifications>=2023.03.6 in /usr/local/lib/python3.11/dist-packages (from jsonschema>=3.0->altair<6,>=4.0->streamlit) (2025.4.1)\n",
            "Requirement already satisfied: referencing>=0.28.4 in /usr/local/lib/python3.11/dist-packages (from jsonschema>=3.0->altair<6,>=4.0->streamlit) (0.36.2)\n",
            "Requirement already satisfied: rpds-py>=0.7.1 in /usr/local/lib/python3.11/dist-packages (from jsonschema>=3.0->altair<6,>=4.0->streamlit) (0.26.0)\n",
            "Requirement already satisfied: six>=1.5 in /usr/local/lib/python3.11/dist-packages (from python-dateutil>=2.8.2->pandas<3,>=1.4.0->streamlit) (1.17.0)\n",
            "Requirement already satisfied: torch in /usr/local/lib/python3.11/dist-packages (2.6.0+cu124)\n",
            "Requirement already satisfied: filelock in /usr/local/lib/python3.11/dist-packages (from torch) (3.18.0)\n",
            "Requirement already satisfied: typing-extensions>=4.10.0 in /usr/local/lib/python3.11/dist-packages (from torch) (4.14.1)\n",
            "Requirement already satisfied: networkx in /usr/local/lib/python3.11/dist-packages (from torch) (3.5)\n",
            "Requirement already satisfied: jinja2 in /usr/local/lib/python3.11/dist-packages (from torch) (3.1.6)\n",
            "Requirement already satisfied: fsspec in /usr/local/lib/python3.11/dist-packages (from torch) (2025.3.2)\n",
            "Requirement already satisfied: nvidia-cuda-nvrtc-cu12==12.4.127 in /usr/local/lib/python3.11/dist-packages (from torch) (12.4.127)\n",
            "Requirement already satisfied: nvidia-cuda-runtime-cu12==12.4.127 in /usr/local/lib/python3.11/dist-packages (from torch) (12.4.127)\n",
            "Requirement already satisfied: nvidia-cuda-cupti-cu12==12.4.127 in /usr/local/lib/python3.11/dist-packages (from torch) (12.4.127)\n",
            "Requirement already satisfied: nvidia-cudnn-cu12==9.1.0.70 in /usr/local/lib/python3.11/dist-packages (from torch) (9.1.0.70)\n",
            "Requirement already satisfied: nvidia-cublas-cu12==12.4.5.8 in /usr/local/lib/python3.11/dist-packages (from torch) (12.4.5.8)\n",
            "Requirement already satisfied: nvidia-cufft-cu12==11.2.1.3 in /usr/local/lib/python3.11/dist-packages (from torch) (11.2.1.3)\n",
            "Requirement already satisfied: nvidia-curand-cu12==10.3.5.147 in /usr/local/lib/python3.11/dist-packages (from torch) (10.3.5.147)\n",
            "Requirement already satisfied: nvidia-cusolver-cu12==11.6.1.9 in /usr/local/lib/python3.11/dist-packages (from torch) (11.6.1.9)\n",
            "Requirement already satisfied: nvidia-cusparse-cu12==12.3.1.170 in /usr/local/lib/python3.11/dist-packages (from torch) (12.3.1.170)\n",
            "Requirement already satisfied: nvidia-cusparselt-cu12==0.6.2 in /usr/local/lib/python3.11/dist-packages (from torch) (0.6.2)\n",
            "Requirement already satisfied: nvidia-nccl-cu12==2.21.5 in /usr/local/lib/python3.11/dist-packages (from torch) (2.21.5)\n",
            "Requirement already satisfied: nvidia-nvtx-cu12==12.4.127 in /usr/local/lib/python3.11/dist-packages (from torch) (12.4.127)\n",
            "Requirement already satisfied: nvidia-nvjitlink-cu12==12.4.127 in /usr/local/lib/python3.11/dist-packages (from torch) (12.4.127)\n",
            "Requirement already satisfied: triton==3.2.0 in /usr/local/lib/python3.11/dist-packages (from torch) (3.2.0)\n",
            "Requirement already satisfied: sympy==1.13.1 in /usr/local/lib/python3.11/dist-packages (from torch) (1.13.1)\n",
            "Requirement already satisfied: mpmath<1.4,>=1.1.0 in /usr/local/lib/python3.11/dist-packages (from sympy==1.13.1->torch) (1.3.0)\n",
            "Requirement already satisfied: MarkupSafe>=2.0 in /usr/local/lib/python3.11/dist-packages (from jinja2->torch) (3.0.2)\n"
          ]
        }
      ],
      "source": [
        "# Install necessary packages\n",
        "!pip install transformers\n",
        "!pip install sentence-transformers\n",
        "!pip install streamlit\n",
        "!pip install torch\n"
      ]
    },
    {
      "cell_type": "markdown",
      "source": [
        "# 📄 Section 2: Load FAQ Knowledge Base (Simulated Bank FAQs)"
      ],
      "metadata": {
        "id": "cz-8NH5wGZ4w"
      }
    },
    {
      "cell_type": "code",
      "source": [
        "# Imports\n",
        "import torch\n",
        "from transformers import pipeline\n",
        "from sentence_transformers import SentenceTransformer, util\n",
        "import json\n",
        "import numpy as np\n",
        "import re\n",
        "import pickle"
      ],
      "metadata": {
        "id": "X4m12IIn2y-B"
      },
      "execution_count": 16,
      "outputs": []
    },
    {
      "cell_type": "markdown",
      "source": [
        "# 🧠 Section 3: Semantic Search Engine with Transformers"
      ],
      "metadata": {
        "id": "RO1nbX2LGfy4"
      }
    },
    {
      "cell_type": "code",
      "source": [
        "# Sample Bank FAQs (Can be extended to 100+ questions)\n",
        "#FAQ Questions\n",
        "bank_faq = {\n",
        "    \"how do i apply for a credit card\": \"You can apply for a credit card online through our website or visit your nearest branch.\",\n",
        "    \"how do i reset my internet banking password\": \"Click on ‘Forgot Password’ on the login page and follow the instructions to reset your password.\",\n",
        "    \"how can i open a new account\": \"You can open a new account online or by visiting any of our branches with valid ID proof.\",\n",
        "    \"how do i pay my credit card bill\": \"You can pay your credit card bill via online banking, mobile app, or at any branch.\",\n",
        "    \"what are the bank’s working hours\": \"Most branches are open from 9:00 AM to 4:00 PM, Monday to Friday, and 9:00 AM to 1:00 PM on Saturdays.\",\n",
        "    \"how do i get a copy of my statement\": \"You can download your statement from online banking or request a printed copy at any branch.\",\n",
        "    \"what are the interest rates for savings\": \"Our current savings account interest rate is 3.5% per annum. Would you like more details?\",\n",
        "    \"what should i do if i lose my debit card\": \"Please call our 24/7 helpline immediately or block your card through the mobile app.\",\n",
        "    \"how can i update my address\": \"You can update your address by uploading proof in your online profile or visiting a branch.\",\n",
        "    \"how do i activate my debit card\": \"You can activate your debit card at any ATM or through our mobile banking app.\",\n",
        "    \"how do i check my account balance\": \"You can check your balance via internet banking, mobile app, or at any ATM.\",\n",
        "    \"how do i transfer money to another account\": \"Use the 'Fund Transfer' option in your online banking or mobile app.\",\n",
        "    \"how do i block my credit card\": \"Call our customer care or use the mobile app to block your credit card instantly.\",\n",
        "    \"how do i apply for a loan\": \"You can apply for a loan online or by visiting your nearest branch.\",\n",
        "    \"how do i change my registered mobile number\": \"Update your mobile number through internet banking or by submitting a request at your branch.\",\n",
        "    \"how do i close my account\": \"Please visit your nearest branch with your ID proof to close your account.\",\n",
        "    \"how do i enable international transactions\": \"Enable international transactions via your mobile app or by contacting customer care.\",\n",
        "    \"how do i set up auto-debit for bills\": \"Set up auto-debit through your online banking under the 'Bill Pay' section.\",\n",
        "    \"how do i check my loan status\": \"Log in to your account online or use the mobile app to check your loan status.\",\n",
        "    \"how do i get a new cheque book\": \"Request a new cheque book via online banking, mobile app, or at your branch.\",\n",
        "    \"how do i update my email address\": \"Update your email address through internet banking or by visiting your branch.\",\n",
        "    \"how do i stop a cheque payment\": \"You can stop cheque payment by logging into your account or contacting customer care.\",\n",
        "    \"how do i get my account statement by email\": \"Register for e-statements through internet banking to receive statements by email.\",\n",
        "    \"how do i increase my credit card limit\": \"Request a limit increase through your mobile app or by calling customer care.\",\n",
        "    \"how do i get a duplicate passbook\": \"Visit your branch and request a duplicate passbook.\",\n",
        "    \"how do i dispute a transaction\": \"Report unauthorized transactions via the mobile app or call customer care immediately.\",\n",
        "    \"how do i open a fixed deposit\": \"Open a fixed deposit online or at any branch.\",\n",
        "    \"how do i redeem my credit card reward points\": \"Redeem your reward points through the credit card section in your online account.\",\n",
        "    \"how do i check my credit card statement\": \"View your credit card statement online or via the mobile app.\",\n",
        "    \"how do i change my atm pin\": \"Change your ATM PIN at any ATM or through the mobile app.\",\n",
        "    \"how do i apply for a debit card\": \"Apply for a debit card online or at your nearest branch.\",\n",
        "    \"how do i unlock my internet banking account\": \"Reset your password online or contact customer care to unlock your account.\",\n",
        "    \"how do i update my kyc details\": \"Update your KYC details by submitting documents at your branch or through the app.\",\n",
        "    \"how do i check my emi schedule\": \"Check your EMI schedule in the loans section of your online account.\",\n",
        "    \"how do i download my tax certificate\": \"Download your tax certificate from the statements section in internet banking.\",\n",
        "    \"how do i link my aadhaar to my account\": \"Link your Aadhaar online, via the app, or by submitting a form at your branch.\",\n",
        "    \"how do i get a demand draft\": \"Request a demand draft online or at any branch.\",\n",
        "    \"how do i check my account number\": \"Find your account number on your passbook, cheque book, or online profile.\",\n",
        "    \"how do i get a bank reference letter\": \"Request a bank reference letter at your branch.\",\n",
        "    \"how do i set up standing instructions\": \"Set up standing instructions through online banking or at your branch.\",\n",
        "    \"how do i get my customer id\": \"Your customer ID is on your welcome letter, passbook, or online profile.\",\n",
        "    \"how do i check my account opening status\": \"Track your account opening status online or by contacting customer care.\",\n",
        "    \"how do i close my fixed deposit\": \"Close your fixed deposit online or at your branch.\",\n",
        "    \"how do i get a locker\": \"Apply for a locker facility at your nearest branch.\",\n",
        "    \"how do i check my transaction history\": \"View your transaction history in your online account or mobile app.\",\n",
        "    \"how do i get a mini statement\": \"Get a mini statement at any ATM or via SMS banking.\",\n",
        "    \"how do i update my nominee\": \"Update your nominee details through online banking or at your branch.\",\n",
        "    \"how do i get a loan foreclosure statement\": \"Request a foreclosure statement through your loan account online or at the branch.\",\n",
        "    \"how do i check my fixed deposit maturity date\": \"Check your FD maturity date in the deposits section of your online account.\",\n",
        "    \"how do i apply for net banking\": \"Register for net banking online or at your branch.\",\n",
        "    \"how do i report a phishing email\": \"Forward phishing emails to report@yourbank.com and do not click any suspicious links.\",\n",
        "    \"how do i activate sms alerts\": \"Activate SMS alerts through your online banking or at your branch.\",\n",
        "    \"how do i check forex rates\": \"View the latest forex rates on our website or mobile app.\",\n",
        "    \"how do i get a pre-approved loan offer\": \"Check your eligibility for pre-approved loans in the offers section of your online account.\",\n",
        "    \"how do i open a recurring deposit\": \"Open a recurring deposit online or at your branch.\",\n",
        "    \"how do i update my pan card details\": \"Update your PAN card details through internet banking or at your branch.\",\n",
        "    \"how do i check my account type\": \"Your account type is mentioned in your passbook, cheque book, or online profile.\",\n",
        "    \"how do i get a cancelled cheque\": \"Issue a cheque and write 'Cancelled' across it; you can get a cheque leaf from your cheque book.\",\n",
        "    \"how do i get an interest certificate\": \"Download your interest certificate from the statements section in internet banking.\",\n",
        "    \"how do i check my overdraft limit\": \"Check your overdraft limit in the accounts section of your online account.\",\n",
        "    \"how do i report an atm not dispensing cash\": \"Report ATM issues via customer care or through your mobile app.\",\n",
        "    \"how do i check my account balance by sms\": \"Send 'BAL' to our SMS banking number from your registered mobile.\",\n",
        "    \"how do i get a tds certificate\": \"Download your TDS certificate from the tax section in internet banking.\",\n",
        "    \"how do i check my cheque status\": \"Check cheque status in your online account or by calling customer care.\",\n",
        "    \"how do i get a loan interest certificate\": \"Download your loan interest certificate from the loan section in internet banking.\",\n",
        "    \"how do i set up upi\": \"Set up UPI through your mobile banking app following the on-screen instructions.\",\n",
        "    \"how do i get a bank statement for visa\": \"Request a visa-specific bank statement at your branch.\",\n",
        "    \"how do i check my reward points\": \"View your reward points in the credit card section of your online account.\",\n",
        "    \"how do i get a signature verification letter\": \"Request a signature verification letter at your branch.\",\n",
        "    \"how do i update my marital status\": \"Update your marital status by submitting proof at your branch.\",\n",
        "    \"how do i get a certificate of account balance\": \"Request a balance certificate at your branch or via online banking.\",\n",
        "    \"how do i check my account opening kit status\": \"Track your kit status online or by contacting customer care.\",\n",
        "    \"how do i get a duplicate atm card\": \"Request a duplicate ATM card through online banking or at your branch.\",\n",
        "    \"how do i check my debit card status\": \"Track your debit card status in the cards section of your online account.\",\n",
        "    \"how do i get a bank solvency certificate\": \"Request a solvency certificate at your branch.\",\n",
        "    \"how do i check my account closure status\": \"Contact customer care or visit your branch to check your account closure status.\",\n",
        "    \"how do i apply for a personal loan\": \"Apply for a personal loan online or at your nearest branch.\",\n",
        "    \"how do i check my emi due date\": \"View your EMI due date in the loans section of your online account.\",\n",
        "    \"how do i get a bank guarantee\": \"Apply for a bank guarantee at your branch.\",\n",
        "    \"how do i check my cheque book request status\": \"Track your cheque book request status in your online account.\",\n",
        "    \"how do i get a bank account confirmation letter\": \"Request a confirmation letter at your branch.\",\n",
        "    \"how do i check my credit card application status\": \"Track your credit card application status online or by contacting customer care.\",\n",
        "    \"how do i update my beneficiary details\": \"Update beneficiary details through online banking or at your branch.\",\n",
        "    \"how do i check my fixed deposit interest rate\": \"Check the current interest rate for fixed deposits on our website or app.\",\n",
        "    \"how do i apply for a business loan\": \"Apply for a business loan online or at your nearest branch.\",\n",
        "    \"how do i get a bank statement for tax purposes\": \"Request a bank statement for tax purposes through online banking or at your branch.\",\n",
        "    \"how do i set up mobile banking\": \"Download our mobile app and register to set up mobile banking.\",\n",
        "    \"how do i check my loan eligibility\": \"Check your loan eligibility online or by contacting customer care.\",\n",
        "    \"how do i report a lost cheque book\": \"Report a lost cheque book immediately by calling customer care or visiting your branch.\",\n",
        "    \"how do i get a credit card statement by email\": \"Register for e-statements to receive your credit card statement by email.\",\n",
        "    \"how do i update my contact details\": \"Update your contact details through internet banking or at your branch.\",\n",
        "    \"how do i get a bank statement for visa application\": \"Request a bank statement specifically for visa application at your branch.\",\n",
        "    \"how do i check my account balance at an atm\": \"Check your account balance at any ATM using your debit card.\",\n",
        "    \"how do i get a loan prepayment statement\": \"Request a prepayment statement for your loan at your branch or online.\",\n",
        "    \"how do i set up email alerts\": \"Set up email alerts for transactions through your online banking.\",\n",
        "    \"how do i get a bank statement for loan application\": \"Request a bank statement for loan application purposes at your branch.\",\n",
        "    \"how do i check my credit card reward points expiry\": \"Check the expiry date of your credit card reward points in your online account.\",\n",
        "    \"how do i get a bank statement for scholarship application\": \"Request a bank statement for scholarship application at your branch.\",\n",
        "    \"how do i check my account balance on mobile\": \"Check your account balance using our mobile app or SMS banking.\",\n",
        "    \"how do i get a bank statement for passport application\": \"Request a bank statement for passport application at your branch.\",\n",
        "    \"how do i check my credit card due date\": \"View your credit card due date in the credit card section of your online account.\",\n",
        "    \"how do i get a bank statement for visa interview\": \"Request a bank statement for visa interview purposes at your branch.\",\n",
        "    \"how do i check my account balance on phone\": \"Call our customer care to check your account balance over the phone.\",\n",
        "    \"how do i get a bank statement for government subsidy\": \"Request a bank statement for government subsidy application at your branch.\",\n",
        "    \"how do i check my credit card payment status\": \"Check your credit card payment status in your online account or mobile app.\",\n",
        "    \"how do i get a bank statement for rent agreement\": \"Request a bank statement for rent agreement purposes at your branch.\",\n",
        "    \"how do i check my account balance on internet banking\": \"Log in to internet banking to check your account balance.\",\n",
        "    \"how do i get a bank statement for visa processing\": \"Request a bank statement for visa processing at your branch.\",\n",
        "    \"how do i check my credit card statement by sms\": \"Send 'CCSTAT' to our SMS banking number to receive your credit card statement.\",\n",
        "    \"how do i get a bank statement for education loan\": \"Request a bank statement for education loan application at your branch.\",\n",
        "    \"how do i check my account balance on atm\": \"Check your account balance at any ATM using your debit card.\",\n",
        "    \"how do i get a bank statement for home loan\": \"Request a bank statement for home loan application at your branch.\",\n",
        "    \"how do i check my credit card statement on mobile\": \"View your credit card statement on our mobile app.\",\n",
        "    \"how do i get a bank statement for business loan\": \"Request a bank statement for business loan application at your branch.\",\n",
        "    \"how do i check my account balance on passbook\": \"Check your account balance in your passbook.\",\n",
        "    \"how do i get a bank statement for personal loan\": \"Request a bank statement for personal loan application at your branch.\",\n",
        "    \"how do i check my credit card statement on internet banking\": \"View your credit card statement by logging into internet banking.\",\n",
        "    \"how do i get a bank statement for vehicle loan\": \"Request a bank statement for vehicle loan application at your branch.\",\n",
        "    \"how do i check my account balance on cheque book\": \"Check your account balance in your cheque book.\",\n",
        "    \"how do i get a bank statement for medical loan\": \"Request a bank statement for medical loan application at your branch.\",\n",
        "    \"how do i check my credit card statement on email\": \"Receive your credit card statement via email by registering for e-statements.\",\n",
        "    \"how do i get a bank statement for travel loan\": \"Request a bank statement for travel loan application at your branch.\",\n",
        "    \"how do i check my account balance on mobile app\": \"Check your account balance using our mobile banking app.\",\n",
        "    \"how do i get a bank statement for credit card\": \"Request a bank statement for credit card application at your branch.\",\n",
        "    \"how do i check my credit card statement on phone\": \"Call customer care to get your credit card statement over the phone.\",\n",
        "    \"how do i get a bank statement for debit card\": \"Request a bank statement for debit card application at your branch.\",\n",
        "    \"how do i check my account balance on sms\": \"Send 'BAL' to our SMS banking number from your registered mobile.\",\n",
        "    \"how do i get a bank statement for savings account\": \"Request a bank statement for savings account application at your branch.\",\n",
        "    \"how do i check my credit card statement on sms banking\": \"Send 'CCSTAT' to our SMS banking number to receive your credit card statement.\",\n",
        "    \"how do i get a bank statement for current account\": \"Request a bank statement for current account application at your branch.\",\n",
        "    \"how do i check my account balance on atm machine\": \"Check your account balance at any ATM machine using your debit card.\",\n",
        "    \"how do i get a bank statement for nri account\": \"Request a bank statement for NRI account application at your branch.\",\n",
        "    \"how do i check my credit card statement on mobile app\": \"View your credit card statement on our mobile app.\",\n",
        "    \"how do i get a bank statement for corporate account\": \"Request a bank statement for corporate account application at your branch.\",\n",
        "    \"how do i check my account balance on passbook update\": \"Check your account balance when your passbook is updated at the branch.\",\n",
        "    \"how do i get a bank statement for trust account\": \"Request a bank statement for trust account application at your branch.\",\n",
        "    \"how do i check my credit card statement on internet banking portal\": \"View your credit card statement by logging into the internet banking portal.\",\n",
        "    \"how do i get a bank statement for savings account statement\": \"Request a bank statement for savings account statement at your branch.\",\n",
        "    \"how do i check my account balance on cheque book leaf\": \"Check your account balance on your cheque book leaf.\",\n",
        "    \"how do i get a bank statement for fixed deposit\": \"Request a bank statement for fixed deposit application at your branch.\",\n",
        "    \"how do i check my credit card statement on email statement\": \"Receive your credit card statement via email by registering for e-statements.\",\n",
        "    \"how do i get a bank statement for recurring deposit\": \"Request a bank statement for recurring deposit application at your branch.\",\n",
        "    \"how do i check my account balance on mobile banking\": \"Check your account balance using our mobile banking service.\",\n",
        "    \"how do i get a bank statement for savings account passbook\": \"Request a bank statement for your savings account passbook at your branch.\",\n",
        "    \"how do i check my credit card pin\": \"You can view or reset your credit card PIN using the mobile app or internet banking.\",\n",
        "    \"how do i get a bank statement for overdraft account\": \"Request a bank statement for overdraft account application at your branch.\",\n",
        "    \"how do i check my loan account number\": \"Find your loan account number in your loan documents or online account.\",\n",
        "    \"how do i get a bank statement for partnership account\": \"Request a bank statement for partnership account application at your branch.\",\n",
        "    \"how do i check my last five transactions\": \"View your last five transactions in your mobile app or at any ATM.\",\n",
        "    \"how do i get a bank statement for joint account\": \"Request a bank statement for joint account application at your branch.\",\n",
        "    \"how do i check my fixed deposit account number\": \"Find your FD account number in your FD receipt or online account.\",\n",
        "    \"how do i get a bank statement for minor account\": \"Request a bank statement for minor account application at your branch.\",\n",
        "    \"how do i check my recurring deposit account number\": \"Find your RD account number in your RD receipt or online account.\",\n",
        "    \"how do i get a bank statement for overdraft facility\": \"Request a bank statement for overdraft facility at your branch.\",\n",
        "    \"how do i check my loan repayment schedule\": \"View your loan repayment schedule in your online account.\",\n",
        "    \"how do i get a bank statement for club account\": \"Request a bank statement for club account application at your branch.\",\n",
        "    \"how do i check my emi amount\": \"Check your EMI amount in the loans section of your online account.\",\n",
        "    \"how do i get a bank statement for society account\": \"Request a bank statement for society account application at your branch.\",\n",
        "    \"how do i check my account opening date\": \"Your account opening date is available in your account profile online or on your welcome letter.\",\n",
        "    \"how do i get a bank statement for huf account\": \"Request a bank statement for HUF account application at your branch.\",\n",
        "    \"how do i check my account balance in us dollars\": \"Check your foreign currency account balance in your online account.\",\n",
        "    \"how do i get a bank statement for salary account\": \"Request a bank statement for salary account application at your branch.\",\n",
        "    \"how do i check my account balance in gbp\": \"Check your GBP account balance in your online account.\",\n",
        "    \"how do i get a bank statement for senior citizen account\": \"Request a bank statement for senior citizen account at your branch.\",\n",
        "    \"how do i check my account balance in euro\": \"Check your Euro account balance in your online account.\",\n",
        "    \"how do i get a bank statement for student account\": \"Request a bank statement for student account application at your branch.\",\n",
        "    \"how do i check my account balance in yen\": \"Check your Yen account balance in your online account.\",\n",
        "    \"how do i get a bank statement for pension account\": \"Request a bank statement for pension account application at your branch.\",\n",
        "    \"how do i check my account balance in aud\": \"Check your AUD account balance in your online account.\",\n",
        "    \"how do i get a bank statement for savings plus account\": \"Request a bank statement for savings plus account at your branch.\",\n",
        "    \"how do i check my account balance in cad\": \"Check your CAD account balance in your online account.\",\n",
        "    \"how do i get a bank statement for woman account\": \"Request a bank statement for woman account application at your branch.\",\n",
        "    \"how do i check my account balance in sgd\": \"Check your SGD account balance in your online account.\",\n",
        "    \"how do i get a bank statement for premium account\": \"Request a bank statement for premium account at your branch.\",\n",
        "    \"how do i check my account balance in chf\": \"Check your CHF account balance in your online account.\",\n",
        "    \"how do i get a bank statement for platinum account\": \"Request a bank statement for platinum account at your branch.\",\n",
        "    \"how do i check my account balance in zar\": \"Check your ZAR account balance in your online account.\",\n",
        "    \"how do i get a bank statement for diamond account\": \"Request a bank statement for diamond account at your branch.\",\n",
        "    \"how do i check my account balance in sek\": \"Check your SEK account balance in your online account.\",\n",
        "    \"how do i get a bank statement for gold account\": \"Request a bank statement for gold account at your branch.\",\n",
        "    \"how do i check my account balance in nok\": \"Check your NOK account balance in your online account.\",\n",
        "    \"how do i get a bank statement for silver account\": \"Request a bank statement for silver account at your branch.\",\n",
        "    \"how do i check my account balance in hkd\": \"Check your HKD account balance in your online account.\",\n",
        "    \"how do i get a bank statement for kids account\": \"Request a bank statement for kids account at your branch.\",\n",
        "    \"how do i check my account balance in nzd\": \"Check your NZD account balance in your online account.\",\n",
        "    \"how do i get a bank statement for youth account\": \"Request a bank statement for youth account at your branch.\"\n",
        "}\n",
        "\n",
        "# Save as JSON\n",
        "with open('bank_faq.json', 'w') as f:\n",
        "    json.dump(bank_faq, f)\n"
      ],
      "metadata": {
        "id": "UVHFTziN37w6"
      },
      "execution_count": 17,
      "outputs": []
    },
    {
      "cell_type": "markdown",
      "source": [
        "# 🧠 Section 3: Semantic Search Engine with Transformers"
      ],
      "metadata": {
        "id": "N24y_6a9GyYU"
      }
    },
    {
      "cell_type": "code",
      "source": [
        "# Load a sentence transformer for semantic similarity\n",
        "model = SentenceTransformer('all-MiniLM-L6-v2')\n",
        "\n",
        "# Load questions and encode them\n",
        "questions = list(bank_faq.keys())\n",
        "question_embeddings = model.encode(questions, convert_to_tensor=True)\n"
      ],
      "metadata": {
        "id": "GxSLfWpQ4RfN"
      },
      "execution_count": 19,
      "outputs": []
    },
    {
      "cell_type": "markdown",
      "source": [
        "# 💬 Section 4: Create a Semantic Answer Function"
      ],
      "metadata": {
        "id": "sVu6QVEWG5Nk"
      }
    },
    {
      "cell_type": "code",
      "source": [
        "def get_semantic_answer(user_query, threshold=0.6):\n",
        "    user_embedding = model.encode(user_query, convert_to_tensor=True)\n",
        "    similarity_scores = util.pytorch_cos_sim(user_embedding, question_embeddings)\n",
        "\n",
        "    top_score, top_idx = torch.max(similarity_scores, dim=1)\n",
        "    if top_score.item() > threshold:\n",
        "        matched_question = questions[top_idx]\n",
        "        return bank_faq[matched_question]\n",
        "    else:\n",
        "        return None\n"
      ],
      "metadata": {
        "id": "wDb9_rwq4Wvn"
      },
      "execution_count": 20,
      "outputs": []
    },
    {
      "cell_type": "markdown",
      "source": [
        "# 🔍 Section 5: Keyword-Based Fallback Answer"
      ],
      "metadata": {
        "id": "lQRiYHAxHCAb"
      }
    },
    {
      "cell_type": "code",
      "source": [
        "def keyword_fallback(query):\n",
        "    for question, answer in bank_faq.items():\n",
        "        if any(word in question.lower() for word in query.lower().split()):\n",
        "            return answer\n",
        "    return \"Sorry, I couldn't understand your query. Please contact our support.\"\n"
      ],
      "metadata": {
        "id": "Qhi3vKhC4dwR"
      },
      "execution_count": 21,
      "outputs": []
    },
    {
      "cell_type": "markdown",
      "source": [
        "# 🧪 Section 6: Combine Both Strategies into Chat Function"
      ],
      "metadata": {
        "id": "DFA-YhJkHG1i"
      }
    },
    {
      "cell_type": "code",
      "source": [
        "def bank_chatbot(query):\n",
        "    response = get_semantic_answer(query)\n",
        "    if response:\n",
        "        return response\n",
        "    else:\n",
        "        return keyword_fallback(query)\n"
      ],
      "metadata": {
        "id": "LrkG57Kx4gNV"
      },
      "execution_count": 22,
      "outputs": []
    },
    {
      "cell_type": "markdown",
      "source": [
        "# 🧾 Section 7: Example Interaction"
      ],
      "metadata": {
        "id": "q3zWCiSbHLE3"
      }
    },
    {
      "cell_type": "code",
      "source": [
        "user_queries = [\n",
        "    \"What's the savings interest rate?\",\n",
        "    \"How do I get a loan?\",\n",
        "    \"Block card please\",\n",
        "    \"Tell me types of credit cards\",\n",
        "    \"How much money must be in my savings?\"\n",
        "]\n",
        "\n",
        "for query in user_queries:\n",
        "    print(f\"User: {query}\")\n",
        "    print(f\"Bot: {bank_chatbot(query)}\\n\")\n"
      ],
      "metadata": {
        "colab": {
          "base_uri": "https://localhost:8080/"
        },
        "id": "_NzdH8o44iru",
        "outputId": "413e76fd-e070-4d4e-f893-fb4037eee04f"
      },
      "execution_count": 25,
      "outputs": [
        {
          "output_type": "stream",
          "name": "stdout",
          "text": [
            "User: What's the savings interest rate?\n",
            "Bot: Our current savings account interest rate is 3.5% per annum. Would you like more details?\n",
            "\n",
            "User: How do I get a loan?\n",
            "Bot: You can apply for a loan online or by visiting your nearest branch.\n",
            "\n",
            "User: Block card please\n",
            "Bot: Call our customer care or use the mobile app to block your credit card instantly.\n",
            "\n",
            "User: Tell me types of credit cards\n",
            "Bot: You can apply for a credit card online through our website or visit your nearest branch.\n",
            "\n",
            "User: How much money must be in my savings?\n",
            "Bot: Our current savings account interest rate is 3.5% per annum. Would you like more details?\n",
            "\n"
          ]
        }
      ]
    },
    {
      "cell_type": "markdown",
      "source": [
        "# Create the faq.pkl pickle file"
      ],
      "metadata": {
        "id": "PVIhytRWHcze"
      }
    },
    {
      "cell_type": "code",
      "source": [
        "# Initialize model and create embeddings\n",
        "model = SentenceTransformer('all-MiniLM-L6-v2')\n",
        "questions = list(bank_faq.keys())\n",
        "question_embeddings = model.encode(questions, convert_to_tensor=True)\n",
        "\n",
        "# Save the model input data (not the model itself)\n",
        "with open('chatbot_model.pkl', 'wb') as f:\n",
        "    pickle.dump((bank_faq, questions, question_embeddings), f)\n",
        "\n",
        "print(\"✅ Pickle file 'chatbot_model.pkl' created successfully.\")\n",
        "\n"
      ],
      "metadata": {
        "colab": {
          "base_uri": "https://localhost:8080/"
        },
        "id": "AUcWQrZ24yns",
        "outputId": "e1289643-6a4f-46d5-b8ff-36c3ef91c63e"
      },
      "execution_count": 26,
      "outputs": [
        {
          "output_type": "stream",
          "name": "stdout",
          "text": [
            "✅ Pickle file 'chatbot_model.pkl' created successfully.\n"
          ]
        }
      ]
    },
    {
      "cell_type": "code",
      "source": [],
      "metadata": {
        "id": "802Ad7HD45bS"
      },
      "execution_count": null,
      "outputs": []
    }
  ]
}